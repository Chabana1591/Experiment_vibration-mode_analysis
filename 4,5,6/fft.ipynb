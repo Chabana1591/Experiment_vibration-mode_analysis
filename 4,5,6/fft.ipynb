{
 "cells": [
  {
   "cell_type": "code",
   "execution_count": 1,
   "metadata": {},
   "outputs": [
    {
     "name": "stdout",
     "output_type": "stream",
     "text": [
      "successed!\n"
     ]
    }
   ],
   "source": [
    "#モジュールのインポートとワークブックの取得\n",
    "\n",
    "import openpyxl\n",
    "import pprint\n",
    "from scipy.fftpack import fft\n",
    "import numpy as np\n",
    "\n",
    "\n",
    "wb = openpyxl.load_workbook('matome.xlsx')\n",
    "sn = wb.sheetnames\n",
    "\n",
    "print(\"successed!\")"
   ]
  },
  {
   "cell_type": "code",
   "execution_count": 13,
   "metadata": {},
   "outputs": [
    {
     "name": "stdout",
     "output_type": "stream",
     "text": [
      "reading アンバランス1005rpm.....successed\n",
      "writing アンバランス1005rpm fftresult.....successed\n",
      "reading アンバランス1483rpm.....successed\n",
      "writing アンバランス1483rpm fftresult.....successed\n",
      "reading アンバランス500rpm.....successed\n",
      "writing アンバランス500rpm fftresult.....successed\n",
      "reading ギア1004rpm.....successed\n",
      "writing ギア1004rpm fftresult.....successed\n",
      "reading ギア1476rpm.....successed\n",
      "writing ギア1476rpm fftresult.....successed\n",
      "reading ギア502rpm.....successed\n",
      "writing ギア502rpm fftresult.....successed\n",
      "reading 健全1005rpm.....successed\n",
      "writing 健全1005rpm fftresult.....successed\n",
      "reading 健全1484rpm.....successed\n",
      "writing 健全1484rpm fftresult.....successed\n",
      "reading 健全507rpm.....successed\n",
      "writing 健全507rpm fftresult.....successed\n",
      "reading 異常（外傷）1482rpm.....successed\n",
      "writing 異常（外傷）1482rpm fftresult.....successed\n",
      "reading 異常（外傷）496rpm.....successed\n",
      "writing 異常（外傷）496rpm fftresult.....successed\n",
      "reading 異常（外傷）998rpm.....successed\n",
      "writing 異常（外傷）998rpm fftresult.....successed\n",
      "reading 自作異常（外輪と転動体1個）1002rpm.....successed\n",
      "writing 自作異常（外輪と転動体1個）1002rpm fftresult.....successed\n",
      "reading 自作異常（外輪と転動体1個）1485rpm.....successed\n",
      "writing 自作異常（外輪と転動体1個）1485rpm fftresult.....successed\n",
      "reading 自作異常（外輪と転動体1個）495rpm.....successed\n",
      "writing 自作異常（外輪と転動体1個）495rpm fftresult.....successed\n",
      "reading 自作異常（外輪）1008rpm.....successed\n",
      "writing 自作異常（外輪）1008rpm fftresult.....successed\n",
      "reading 自作異常（外輪）1483rpm.....successed\n",
      "writing 自作異常（外輪）1483rpm fftresult.....successed\n",
      "reading 自作異常（外輪）503rpm.....successed\n",
      "writing 自作異常（外輪）503rpm fftresult.....successed\n",
      "reading 自作異常（転動体1個）1006rpm.....successed\n",
      "writing 自作異常（転動体1個）1006rpm fftresult.....successed\n",
      "reading 自作異常（転動体1個）1484rpm.....successed\n",
      "writing 自作異常（転動体1個）1484rpm fftresult.....successed\n",
      "reading 自作異常（転動体1個）499rpm.....successed\n",
      "writing 自作異常（転動体1個）499rpm fftresult.....successed\n",
      "saving...successed\n"
     ]
    }
   ],
   "source": [
    "import math\n",
    "\n",
    "wave = np.empty(sheet.max_row-3-57)\n",
    "rate = np.empty(sheet.max_row-3-57)\n",
    "\n",
    "for i in range(len(sn)):\n",
    "    sheet = wb.get_sheet_by_name(sn[i])\n",
    "    print(\"reading \" + sn[i] , end=\"\")\n",
    "\n",
    "    for row in range(58,sheet.max_row-2): #データのある行からwave値を取得\n",
    "        wave[row-58] = sheet['c'+str(row)].value\n",
    "        rate[row-58] = (row-58)/10\n",
    "        if row%10000==0:\n",
    "            print(\".\" , end=\"\")\n",
    "    wavef = fft(wave) #フーリエ変換→np複素数\n",
    "    print(\"successed\")\n",
    "\n",
    "    print(\"writing \" + sn[i] + \" fftresult\" , end=\"\")\n",
    "    sheet['d57'] = \"周波数[Hz]\"\n",
    "    sheet['e57'] = \"フーリエ解析結果[dB]\"\n",
    "    for row in range(58,sheet.max_row-2):#D,E列に書き込み\n",
    "        sheet['D'+str(row)] = rate[row-58]\n",
    "        sheet['E'+str(row)] = 20*math.log10(np.abs(wavef[row-58])*2/50000)\n",
    "        if row%10000==0:\n",
    "            print(\".\" , end=\"\")\n",
    "    print(\"successed\")\n",
    "    \n",
    "print(\"saving...\",end=\"\")\n",
    "wb.save('matome.xlsx')\n",
    "print(\"successed\")\n"
   ]
  },
  {
   "cell_type": "code",
   "execution_count": 35,
   "metadata": {},
   "outputs": [
    {
     "name": "stdout",
     "output_type": "stream",
     "text": [
      "Amplitude...successed\n"
     ]
    }
   ],
   "source": [
    "max = 0.\n",
    "min = 0.\n",
    "print(\"Amplitude...\",end=\"\")\n",
    "\n",
    "for i in range(len(sn)):\n",
    "    max = 0.\n",
    "    min = 0.\n",
    "    sheet = wb.get_sheet_by_name(sn[i])\n",
    "    for row in range(58,sheet.max_row-2):\n",
    "        if max < float(sheet['c'+str(row)].value):\n",
    "            max = float(sheet['c'+str(row)].value)\n",
    "        if min > float(sheet['c'+str(row)].value):\n",
    "            min = float(sheet['c'+str(row)].value)\n",
    "    sheet[\"e52\"] = \"振幅\"\n",
    "    sheet[\"f52\"] = max-min\n",
    "\n",
    "print(\"successed\")"
   ]
  },
  {
   "cell_type": "code",
   "execution_count": 36,
   "metadata": {},
   "outputs": [
    {
     "name": "stdout",
     "output_type": "stream",
     "text": [
      "RMS...successed\n"
     ]
    }
   ],
   "source": [
    "#RMS\n",
    "print(\"RMS...\",end=\"\")\n",
    "rms = 0.\n",
    "for i in range(len(sn)):\n",
    "    sheet = wb.get_sheet_by_name(sn[i])\n",
    "    for row in range(58,sheet.max_row-2):\n",
    "        rms = rms + float(sheet['c'+str(row)].value)**2\n",
    "    rms = math.sqrt(rms/(sheet.max_row-58))\n",
    "    sheet[\"e53\"] = \"RMS\"\n",
    "    sheet[\"f53\"] = rms\n",
    "\n",
    "print(\"successed\")"
   ]
  },
  {
   "cell_type": "code",
   "execution_count": 22,
   "metadata": {},
   "outputs": [
    {
     "name": "stdout",
     "output_type": "stream",
     "text": [
      "波高率...successed\n"
     ]
    }
   ],
   "source": [
    "#波高率\n",
    "print(\"波高率...\",end=\"\")\n",
    "for i in range(len(sn)):\n",
    "    sheet = wb.get_sheet_by_name(sn[i])\n",
    "    sheet[\"e54\"] = \"波高率\"\n",
    "    sheet[\"f54\"] = float(sheet[\"f52\"].value)/float(sheet[\"f53\"].value)\n",
    "print(\"successed\")"
   ]
  },
  {
   "cell_type": "code",
   "execution_count": 37,
   "metadata": {},
   "outputs": [
    {
     "name": "stdout",
     "output_type": "stream",
     "text": [
      "senndowaido...successed\n"
     ]
    }
   ],
   "source": [
    "#尖度、歪度\n",
    "print(\"senndowaido...\",end=\"\")\n",
    "ave = 0.\n",
    "sd = 0.\n",
    "wai = 0.\n",
    "sen = 0.\n",
    "num = sheet.max_row-58\n",
    "for i in range(len(sn)):\n",
    "    sheet = wb.get_sheet_by_name(sn[i])\n",
    "    for row in range(58,sheet.max_row-2):\n",
    "        ave = ave + float(sheet['c'+str(row)].value)\n",
    "    ave = ave/num\n",
    "    \n",
    "    for row in range(58,sheet.max_row-2):\n",
    "        sd = sd + (float(sheet['c'+str(row)].value)-ave)**2\n",
    "    sd = math.sqrt(sd/num)\n",
    "    \n",
    "    for row in range(58,sheet.max_row-2):\n",
    "        wai = wai + ((float(sheet['c'+str(row)].value)-ave)/sd)**3\n",
    "    wai = num/((num-1)*(num-2))*wai\n",
    "    \n",
    "    for row in range(58,sheet.max_row-2):\n",
    "        sen = sen + ((float(sheet['c'+str(row)].value)-ave)/sd)**4\n",
    "    sen = num*(num+1)/((num-1)*(num-2)*(num-3))*sen - 3*(num-1)**2/((num-2)*(num-3))\n",
    "    \n",
    "    sheet[\"e55\"] = \"歪度\"\n",
    "    sheet[\"f55\"] = wai\n",
    "    sheet[\"e56\"] = \"尖度\"\n",
    "    sheet[\"f56\"] = sen\n",
    "    \n",
    "\n",
    "print(\"successed\")\n"
   ]
  },
  {
   "cell_type": "code",
   "execution_count": 40,
   "metadata": {},
   "outputs": [
    {
     "name": "stdout",
     "output_type": "stream",
     "text": [
      "reading and sortingアンバランス1005rpm.....successed\n",
      "writing アンバランス1005rpm sortresult.....successed\n",
      "reading and sortingアンバランス1483rpm.....successed\n",
      "writing アンバランス1483rpm sortresult.....successed\n",
      "reading and sortingアンバランス500rpm.....successed\n",
      "writing アンバランス500rpm sortresult.....successed\n",
      "reading and sortingギア1004rpm.....successed\n",
      "writing ギア1004rpm sortresult.....successed\n",
      "reading and sortingギア1476rpm.....successed\n",
      "writing ギア1476rpm sortresult.....successed\n",
      "reading and sortingギア502rpm.....successed\n",
      "writing ギア502rpm sortresult.....successed\n",
      "reading and sorting健全1005rpm.....successed\n",
      "writing 健全1005rpm sortresult.....successed\n",
      "reading and sorting健全1484rpm.....successed\n",
      "writing 健全1484rpm sortresult.....successed\n",
      "reading and sorting健全507rpm.....successed\n",
      "writing 健全507rpm sortresult.....successed\n",
      "reading and sorting異常（外傷）1482rpm.....successed\n",
      "writing 異常（外傷）1482rpm sortresult.....successed\n",
      "reading and sorting異常（外傷）496rpm.....successed\n",
      "writing 異常（外傷）496rpm sortresult.....successed\n",
      "reading and sorting異常（外傷）998rpm.....successed\n",
      "writing 異常（外傷）998rpm sortresult.....successed\n",
      "reading and sorting自作異常（外輪と転動体1個）1002rpm.....successed\n",
      "writing 自作異常（外輪と転動体1個）1002rpm sortresult.....successed\n",
      "reading and sorting自作異常（外輪と転動体1個）1485rpm.....successed\n",
      "writing 自作異常（外輪と転動体1個）1485rpm sortresult.....successed\n",
      "reading and sorting自作異常（外輪と転動体1個）495rpm.....successed\n",
      "writing 自作異常（外輪と転動体1個）495rpm sortresult.....successed\n",
      "reading and sorting自作異常（外輪）1008rpm.....successed\n",
      "writing 自作異常（外輪）1008rpm sortresult.....successed\n",
      "reading and sorting自作異常（外輪）1483rpm.....successed\n",
      "writing 自作異常（外輪）1483rpm sortresult.....successed\n",
      "reading and sorting自作異常（外輪）503rpm.....successed\n",
      "writing 自作異常（外輪）503rpm sortresult.....successed\n",
      "reading and sorting自作異常（転動体1個）1006rpm.....successed\n",
      "writing 自作異常（転動体1個）1006rpm sortresult.....successed\n",
      "reading and sorting自作異常（転動体1個）1484rpm.....successed\n",
      "writing 自作異常（転動体1個）1484rpm sortresult.....successed\n",
      "reading and sorting自作異常（転動体1個）499rpm.....successed\n",
      "writing 自作異常（転動体1個）499rpm sortresult.....successed\n",
      "saving...successed\n"
     ]
    }
   ],
   "source": [
    "#ソート\n",
    "for i in range(len(sn)):\n",
    "    sheet = wb.get_sheet_by_name(sn[i])\n",
    "    print(\"reading and sorting\" + sn[i] , end=\"\")\n",
    "    wavef_rate = np.array([[0,0],])\n",
    "    for row in range(58,(sheet.max_row-2)//2): #データのある行からwavef値を取得(ナイキスト周波数まで)\n",
    "        a= np.array([sheet['d'+str(row)].value , sheet['e'+str(row)].value],)\n",
    "        wavef_rate = np.vstack((wavef_rate, a))\n",
    "        if row%5000==0:\n",
    "            print(\".\" , end=\"\")\n",
    "    wavef_rate_sort = wavef_rate[np.argsort(wavef_rate[: , 1])[::-1]]\n",
    "    print(\"successed\")\n",
    "\n",
    "    print(\"writing \" + sn[i] + \" sortresult\" , end=\"\")\n",
    "    sheet['f57'] = \"ソート周波数[Hz]\"\n",
    "    sheet['g57'] = \"ソートフーリエ解析結果[dB]\"\n",
    "    for row in range(57,(sheet.max_row-2)//2):#F,G列に書き込み\n",
    "        sheet['f'+str(row)] = wavef_rate_sort[row-58,0]\n",
    "        sheet['g'+str(row)] = wavef_rate_sort[row-58,1]\n",
    "        if row%5000==0:\n",
    "            print(\".\" , end=\"\")\n",
    "    print(\"successed\")\n",
    "    \n",
    "print(\"saving...\",end=\"\")\n",
    "wb.save('matome_kaiseki.xlsx')\n",
    "print(\"successed\")"
   ]
  },
  {
   "cell_type": "code",
   "execution_count": 38,
   "metadata": {},
   "outputs": [
    {
     "name": "stdout",
     "output_type": "stream",
     "text": [
      "saving...successed\n"
     ]
    }
   ],
   "source": [
    "print(\"saving...\",end=\"\")\n",
    "wb.save('matome_kaiseki.xlsx')\n",
    "print(\"successed\")"
   ]
  },
  {
   "cell_type": "code",
   "execution_count": 55,
   "metadata": {
    "scrolled": false
   },
   "outputs": [
    {
     "data": {
      "image/png": "[encoded data removed]",
      "text/plain": [
       "<matplotlib.figure.Figure at 0x1d19635deb8>"
      ]
     },
     "metadata": {},
     "output_type": "display_data"
    },
    {
     "data": {
      "image/png": "[encoded data removed]",
      "text/plain": [
       "<matplotlib.figure.Figure at 0x1d1b0d3a2b0>"
      ]
     },
     "metadata": {},
     "output_type": "display_data"
    }
   ],
   "source": [
    "import matplotlib.pyplot as plt\n",
    "\n",
    "# 時系列データ\n",
    "plt.figure(1)\n",
    "plt.plot(time, wave)\n",
    "plt.xlim(0, 50000)\n",
    "plt.xlabel(\"time\")\n",
    "plt.ylabel(\"y\")\n",
    "\n",
    "plt.show()\n",
    "\n",
    "# 大きさ、位相\n",
    "plt.figure(1)\n",
    "plt.plot(time, np.abs(wavef))\n",
    "plt.xlim(0, 50000)\n",
    "plt.xlabel(\"time\")\n",
    "plt.ylabel(\"y\")\n",
    "\n",
    "plt.show()\n",
    "\n"
   ]
  },
  {
   "cell_type": "code",
   "execution_count": null,
   "metadata": {
    "collapsed": true
   },
   "outputs": [],
   "source": []
  },
  {
   "cell_type": "code",
   "execution_count": null,
   "metadata": {
    "collapsed": true
   },
   "outputs": [],
   "source": []
  },
  {
   "cell_type": "code",
   "execution_count": 57,
   "metadata": {},
   "outputs": [
    {
     "data": {
      "text/plain": [
       "(1.1221542377382774+19.864453941003752j)"
      ]
     },
     "execution_count": 57,
     "metadata": {},
     "output_type": "execute_result"
    }
   ],
   "source": [
    "wavef[500]"
   ]
  }
 ],
 "metadata": {
  "kernelspec": {
   "display_name": "Python 3",
   "language": "python",
   "name": "python3"
  },
  "language_info": {
   "codemirror_mode": {
    "name": "ipython",
    "version": 3
   },
   "file_extension": ".py",
   "mimetype": "text/x-python",
   "name": "python",
   "nbconvert_exporter": "python",
   "pygments_lexer": "ipython3",
   "version": "3.6.3"
  }
 },
 "nbformat": 4,
 "nbformat_minor": 2
}
